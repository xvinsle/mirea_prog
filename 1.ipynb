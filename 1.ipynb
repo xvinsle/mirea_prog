{
 "cells": [
  {
   "cell_type": "code",
   "execution_count": 1,
   "metadata": {},
   "outputs": [],
   "source": [
    "using HorizonSideRobots"
   ]
  },
  {
   "cell_type": "code",
   "execution_count": 2,
   "metadata": {},
   "outputs": [
    {
     "data": {
      "text/plain": [
       "Robot(HorizonSideRobots.SituationDatas.SituationData((0x000000000000000b, 0x000000000000000c), 1.0, true, (-520, 7), [290 36 … 380 440; 211 189 … -141 -209; … ; -101 -51 … 81 208; -13 379 … -70 -109], Set([(-467, 7), (-60, 7), (-431, 7), (-504, 7), (-109, 7), (-55, 7), (-143, 7), (-89, 7), (-304, 7), (-419, 7)  …  (-334, 7), (-398, 7), (-271, 7), (-438, 7), (-356, 7), (-461, 7), (-215, 7), (-111, 7), (-312, 7), (-454, 7)]), Set{HorizonSide}[Set() Set() … Set() Set(); Set() Set() … Set() Set(); … ; Set() Set() … Set() Set(); Set() Set() … Set() Set()], (Scene (780px, 715px):\n",
       "  0 Plots\n",
       "  1 Child Scene:\n",
       "    └ Scene (780px, 715px), Axis (1 plots))), true)"
      ]
     },
     "metadata": {},
     "output_type": "display_data"
    }
   ],
   "source": [
    "robot = Robot(\"untitled.sit\", animate=true)"
   ]
  },
  {
   "cell_type": "code",
   "execution_count": 4,
   "metadata": {},
   "outputs": [],
   "source": [
    "function movePutMarkerAndReturn!(robot, side)\n",
    "    num_steps = 0\n",
    "    while !isborder(robot, side)\n",
    "        move!(robot, side)\n",
    "        num_steps += 1\n",
    "        putmarker!(robot)\n",
    "    end\n",
    "    return num_steps\n",
    "end\n",
    "\n",
    "function oppositeSide(side::HorizonSide)\n",
    "    HorizonSide((Int(side) + 2) % 4)\n",
    "end\n",
    "\n",
    "\n",
    "function along!(robot, side, num_steps)\n",
    "    for a in 1:num_steps \n",
    "        move!(robot, side)\n",
    "    end\n",
    "end\n",
    "\n",
    "\n",
    "function cross!(robot)\n",
    "    for side in (Nord, West, Sud, Ost)\n",
    "        n = movePutMarkerAndReturn!(robot, side)\n",
    "        along!(robot, oppositeSide(side), n)\n",
    "    end\n",
    "    putmarker!(robot)\n",
    "end\n",
    "cross!(robot)    \n",
    "\n",
    "\n"
   ]
  }
 ],
 "metadata": {
  "kernelspec": {
   "display_name": "Julia 1.9.3",
   "language": "julia",
   "name": "julia-1.9"
  },
  "language_info": {
   "file_extension": ".jl",
   "mimetype": "application/julia",
   "name": "julia",
   "version": "1.9.3"
  }
 },
 "nbformat": 4,
 "nbformat_minor": 2
}
