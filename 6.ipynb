{
 "cells": [
  {
   "cell_type": "code",
   "execution_count": 703,
   "metadata": {},
   "outputs": [],
   "source": [
    "using HorizonSideRobots"
   ]
  },
  {
   "cell_type": "code",
   "execution_count": 704,
   "metadata": {},
   "outputs": [],
   "source": [
    "a = Robot(\"untitled.sit\", animate=true);"
   ]
  },
  {
   "cell_type": "markdown",
   "metadata": {},
   "source": [
    "## a ##"
   ]
  },
  {
   "cell_type": "code",
   "execution_count": 705,
   "metadata": {},
   "outputs": [],
   "source": [
    "function HorizonSideRobots.move!(r, side, n)\n",
    "    for _ in range(1, n)\n",
    "        move!(r, side)\n",
    "    end\n",
    "end"
   ]
  },
  {
   "cell_type": "code",
   "execution_count": 706,
   "metadata": {},
   "outputs": [
    {
     "data": {
      "text/plain": [
       "inverse (generic function with 1 method)"
      ]
     },
     "metadata": {},
     "output_type": "display_data"
    }
   ],
   "source": [
    "function inverse(side)\n",
    "    if side == Ost\n",
    "        return West\n",
    "    end\n",
    "    if side == West\n",
    "        return Ost\n",
    "    end\n",
    "    if side == Sud\n",
    "        return Nord\n",
    "    end\n",
    "    if side == Nord\n",
    "        return Sud\n",
    "    end\n",
    "end"
   ]
  },
  {
   "cell_type": "code",
   "execution_count": 707,
   "metadata": {},
   "outputs": [
    {
     "data": {
      "text/plain": [
       "n_steps_along! (generic function with 1 method)"
      ]
     },
     "metadata": {},
     "output_type": "display_data"
    }
   ],
   "source": [
    "function n_steps_along!(stop_cond, r, side)\n",
    "    n = 0\n",
    "    while !stop_cond()\n",
    "        move!(r, side)\n",
    "        n += 1\n",
    "    end\n",
    "    return n\n",
    "end"
   ]
  },
  {
   "cell_type": "code",
   "execution_count": 708,
   "metadata": {},
   "outputs": [
    {
     "data": {
      "text/plain": [
       "along! (generic function with 1 method)"
      ]
     },
     "metadata": {},
     "output_type": "display_data"
    }
   ],
   "source": [
    "function along!(stop_cond, r, side)\n",
    "    while !stop_cond()\n",
    "        move!(r, side)\n",
    "    end\n",
    "end"
   ]
  },
  {
   "cell_type": "code",
   "execution_count": 709,
   "metadata": {},
   "outputs": [
    {
     "data": {
      "text/plain": [
       "to_start (generic function with 1 method)"
      ]
     },
     "metadata": {},
     "output_type": "display_data"
    }
   ],
   "source": [
    "function to_start(r)\n",
    "    n_west = []\n",
    "    n_sud = []\n",
    "    while !(isborder(r, Sud) && isborder(r, West))\n",
    "        append!(n_west, n_steps_along!(() -> isborder(r, West), r, West))\n",
    "        append!(n_sud, n_steps_along!(() -> isborder(r, Sud), r, Sud))\n",
    "    end\n",
    "    return n_west, n_sud\n",
    "end"
   ]
  },
  {
   "cell_type": "code",
   "execution_count": 710,
   "metadata": {},
   "outputs": [
    {
     "data": {
      "text/plain": [
       "fill_side (generic function with 1 method)"
      ]
     },
     "metadata": {},
     "output_type": "display_data"
    }
   ],
   "source": [
    "function fill_side(r, side)\n",
    "    while !isborder(r, side)\n",
    "        putmarker!(r)\n",
    "        move!(r, side)\n",
    "    end\n",
    "end"
   ]
  },
  {
   "cell_type": "code",
   "execution_count": 711,
   "metadata": {},
   "outputs": [
    {
     "data": {
      "text/plain": [
       "to_f_pos (generic function with 1 method)"
      ]
     },
     "metadata": {},
     "output_type": "display_data"
    }
   ],
   "source": [
    "function to_f_pos(r, arr_w, arr_s)\n",
    "    for i in range(-length(arr_w), -1)\n",
    "        move!(r, Nord, arr_s[abs(i)])\n",
    "        move!(r, Ost, arr_w[abs(i)])\n",
    "    end\n",
    "end"
   ]
  },
  {
   "cell_type": "code",
   "execution_count": 712,
   "metadata": {},
   "outputs": [
    {
     "data": {
      "text/plain": [
       "main_a (generic function with 1 method)"
      ]
     },
     "metadata": {},
     "output_type": "display_data"
    }
   ],
   "source": [
    "function main_a(r)\n",
    "    n_west, n_sud = to_start(r)\n",
    "    fill_side(r, Nord)\n",
    "    fill_side(r, Ost)\n",
    "    fill_side(r, Sud)\n",
    "    fill_side(r, West)\n",
    "    to_f_pos(r, n_west, n_sud)\n",
    "end"
   ]
  },
  {
   "cell_type": "markdown",
   "metadata": {},
   "source": [
    "## b ##"
   ]
  },
  {
   "cell_type": "code",
   "execution_count": 1,
   "metadata": {},
   "outputs": [
    {
     "data": {
      "text/plain": [
       "count_holes (generic function with 1 method)"
      ]
     },
     "metadata": {},
     "output_type": "display_data"
    }
   ],
   "source": [
    "function count_holes(r, side)\n",
    "    if side == West || side == Ost\n",
    "        side2 = Nord\n",
    "        side3 = Sud\n",
    "    else\n",
    "        side2 = West\n",
    "        side3 = Ost\n",
    "    end\n",
    "    flag_1 = 0\n",
    "    flag_2 = 0\n",
    "    steps = 0\n",
    "    while isborder(r, side) && !isborder(r, side2)\n",
    "        move!(r, side2)\n",
    "        steps += 1\n",
    "        if !isborder(r, side)\n",
    "            flag_1 = 1\n",
    "        end\n",
    "    end\n",
    "    if flag_1 == 0\n",
    "        move!(r, side3, steps)\n",
    "        steps = 0\n",
    "        while isborder(r, side) && !isborder(r, side3)\n",
    "            move!(r, side3)\n",
    "            steps += 1\n",
    "            if !isborder(r, side)\n",
    "                flag_2 = 1\n",
    "            end\n",
    "        end\n",
    "    end\n",
    "    if flag_1 == 0 && flag_2 == 0\n",
    "        move!(r, side2, steps)\n",
    "        return true\n",
    "    else \n",
    "        n_st_along = n_steps_along!(() -> isborder(r, side), r, side)\n",
    "        if flag_1 == 1\n",
    "            move!(r, side3, steps)\n",
    "            return false, [side2, steps], n_st_along\n",
    "        elseif flag_2 == 1\n",
    "            move!(r, side2, steps)\n",
    "            return false, [side3, steps], n_st_along\n",
    "        end\n",
    "    end\n",
    "end"
   ]
  },
  {
   "cell_type": "code",
   "execution_count": 714,
   "metadata": {},
   "outputs": [
    {
     "data": {
      "text/plain": [
       "mark_at_side (generic function with 1 method)"
      ]
     },
     "metadata": {},
     "output_type": "display_data"
    }
   ],
   "source": [
    "function mark_at_side(r, side)\n",
    "    res = 0\n",
    "    way_back = []\n",
    "    steps_a = []\n",
    "    push!(steps_a, n_steps_along!(() -> isborder(r, side), r, side))\n",
    "    while res[1] != true\n",
    "        res = count_holes(r, side)\n",
    "        if length(res) != 1\n",
    "            push!(way_back, res[2])\n",
    "            push!(steps_a, res[3])\n",
    "        end\n",
    "    end\n",
    "    putmarker!(r)\n",
    "    if length(way_back) > 0\n",
    "        for i in range(1, length(steps_a)-1)\n",
    "            move!(r, way_back[i][1], way_back[i][2])\n",
    "            move!(r, inverse(side), steps_a[abs(i)+1])\n",
    "            move!(r, inverse(way_back[i][1]), way_back[i][2])\n",
    "        end\n",
    "        if length(steps_a) > 1\n",
    "            move!(r, inverse(side), steps_a[1])\n",
    "        end\n",
    "    else\n",
    "        move!(r, inverse(side), steps_a[1])\n",
    "    end\n",
    "end"
   ]
  },
  {
   "cell_type": "code",
   "execution_count": 715,
   "metadata": {},
   "outputs": [
    {
     "data": {
      "text/plain": [
       "main_b (generic function with 1 method)"
      ]
     },
     "metadata": {},
     "output_type": "display_data"
    }
   ],
   "source": [
    "function main_b(r)\n",
    "    mark_at_side(r, West)\n",
    "    mark_at_side(r, Nord)\n",
    "    mark_at_side(r, Sud)\n",
    "    mark_at_side(r, Ost)\n",
    "end"
   ]
  }
 ],
 "metadata": {
  "kernelspec": {
   "display_name": "Julia 1.9.4",
   "language": "julia",
   "name": "julia-1.9"
  },
  "language_info": {
   "file_extension": ".jl",
   "mimetype": "application/julia",
   "name": "julia",
   "version": "1.9.4"
  },
  "orig_nbformat": 4
 },
 "nbformat": 4,
 "nbformat_minor": 2
}
