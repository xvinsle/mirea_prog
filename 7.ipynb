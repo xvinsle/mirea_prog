{
 "cells": [
  {
   "cell_type": "code",
   "execution_count": 1,
   "metadata": {},
   "outputs": [],
   "source": [
    "using HorizonSideRobots"
   ]
  },
  {
   "cell_type": "code",
   "execution_count": 2,
   "metadata": {},
   "outputs": [
    {
     "data": {
      "text/plain": [
       "Robot(HorizonSideRobots.SituationDatas.SituationData((0x000000000000000b, 0x000000000000000c), 1.0, false, (6, 12), [290 36 … 380 440; 211 189 … -141 -209; … ; -101 -51 … 81 208; -13 379 … -70 -109], Set([(-467, 7), (-60, 7), (-431, 7), (-504, 7), (-109, 7), (-55, 7), (-143, 7), (-89, 7), (-304, 7), (-419, 7)  …  (-334, 7), (-398, 7), (-438, 7), (-271, 7), (-356, 7), (-461, 7), (-215, 7), (-111, 7), (-312, 7), (-454, 7)]), Set{HorizonSide}[Set() Set() … Set() Set(); Set() Set() … Set() Set(); … ; Set() Set() … Set() Set(); Set() Set() … Set() Set()], (Scene (780px, 715px):\n",
       "  0 Plots\n",
       "  1 Child Scene:\n",
       "    └ Scene (780px, 715px), Axis (17 plots))), true)"
      ]
     },
     "metadata": {},
     "output_type": "display_data"
    }
   ],
   "source": [
    "robot = Robot(\"untitled.sit\", animate=true)"
   ]
  },
  {
   "cell_type": "code",
   "execution_count": 3,
   "metadata": {},
   "outputs": [],
   "source": [
    "function along!(robot, side, numsteps)\n",
    "    for a in 1:numsteps\n",
    "        move!(robot, side)\n",
    "    end\n",
    "end\n",
    "\n",
    "\n",
    "function inverse(side)\n",
    "    if side == Nord\n",
    "        return Sud\n",
    "    elseif side == West\n",
    "        return Ost\n",
    "    elseif side == Sud\n",
    "        return Nord\n",
    "    elseif side == Ost\n",
    "        return West\n",
    "    end\n",
    "end\n",
    "\n",
    "function left_and_right(robot)\n",
    "    numsteps=0\n",
    "    direction=West#направление\n",
    "    while true\n",
    "        along!(robot, direction, numsteps)\n",
    "        if !isborder(robot, Nord)\n",
    "            break\n",
    "        end\n",
    "        direction = inverse(direction) \n",
    "        along!(robot, direction, numsteps)\n",
    "\n",
    "        along!(robot, direction, numsteps)\n",
    "        if !isborder(robot, Nord)\n",
    "            break\n",
    "        end\n",
    "        direction = inverse(direction) \n",
    "        along!(robot, direction, numsteps)\n",
    "        \n",
    "        direction = inverse(direction) \n",
    "        numsteps += 1\n",
    "    end\n",
    "end\n",
    "\n",
    "left_and_right(robot)"
   ]
  }
 ],
 "metadata": {
  "kernelspec": {
   "display_name": "Julia 1.9.3",
   "language": "julia",
   "name": "julia-1.9"
  },
  "language_info": {
   "file_extension": ".jl",
   "mimetype": "application/julia",
   "name": "julia",
   "version": "1.9.3"
  }
 },
 "nbformat": 4,
 "nbformat_minor": 2
}
