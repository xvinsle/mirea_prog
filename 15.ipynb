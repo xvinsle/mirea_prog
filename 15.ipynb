{
 "cells": [
  {
   "cell_type": "code",
   "execution_count": 1,
   "metadata": {},
   "outputs": [],
   "source": [
    "using HorizonSideRobots"
   ]
  },
  {
   "cell_type": "code",
   "execution_count": 2,
   "metadata": {},
   "outputs": [
    {
     "name": "stderr",
     "output_type": "stream",
     "text": [
      "┌ Warning: Found `resolution` in the theme when creating a `Scene`. The `resolution` keyword for `Scene`s and `Figure`s has been deprecated. Use `Figure(; size = ...` or `Scene(; size = ...)` instead, which better reflects that this is a unitless size and not a pixel resolution. The key could also come from `set_theme!` calls or related theming functions.\n",
      "└ @ Makie C:\\Users\\Alex\\.julia\\packages\\Makie\\Qvk4f\\src\\scenes.jl:220\n"
     ]
    }
   ],
   "source": [
    "a = Robot(\"untitled.sit\", animate=true);"
   ]
  },
  {
   "cell_type": "code",
   "execution_count": 3,
   "metadata": {},
   "outputs": [
    {
     "data": {
      "text/plain": [
       "try_move! (generic function with 1 method)"
      ]
     },
     "metadata": {},
     "output_type": "display_data"
    }
   ],
   "source": [
    "function try_move!(r, side)\n",
    "    if !isborder(r, side)\n",
    "        move!(r, side)\n",
    "        return true\n",
    "    end\n",
    "    return false\n",
    "end"
   ]
  },
  {
   "cell_type": "code",
   "execution_count": 4,
   "metadata": {},
   "outputs": [
    {
     "data": {
      "text/plain": [
       "inverse (generic function with 1 method)"
      ]
     },
     "metadata": {},
     "output_type": "display_data"
    }
   ],
   "source": [
    "function inverse(side)\n",
    "    if side == Sud\n",
    "        return Nord\n",
    "    end\n",
    "    if side == Nord\n",
    "        return Sud\n",
    "    end\n",
    "    if side == Ost\n",
    "        return West\n",
    "    end\n",
    "    if side == West\n",
    "        return Ost\n",
    "    end\n",
    "end"
   ]
  },
  {
   "cell_type": "code",
   "execution_count": 5,
   "metadata": {},
   "outputs": [],
   "source": [
    "function HorizonSideRobots.move!(r, side, n_steps)\n",
    "    stepped = 0\n",
    "    for _ in range(1, n_steps)\n",
    "        if try_move!(r, side)\n",
    "            stepped += 1\n",
    "        end\n",
    "    end\n",
    "    return stepped\n",
    "end"
   ]
  },
  {
   "cell_type": "code",
   "execution_count": 6,
   "metadata": {},
   "outputs": [
    {
     "data": {
      "text/plain": [
       "to_start! (generic function with 1 method)"
      ]
     },
     "metadata": {},
     "output_type": "display_data"
    }
   ],
   "source": [
    "function to_start!(r, side1, side2, steps_arr)\n",
    "    side1_1 = inverse(side1)\n",
    "    side2_1 = inverse(side2)\n",
    "    side = side2\n",
    "    for i in range(-length(steps_arr), -1)\n",
    "        move!(r, side, steps_arr[abs(i)])\n",
    "        if side == side2\n",
    "            side = side1\n",
    "        else\n",
    "            if side == side1\n",
    "                side = side2_1\n",
    "            else\n",
    "                if side == side2_1\n",
    "                    side = side1_1\n",
    "                else\n",
    "                    if side == side1_1\n",
    "                        side = side2\n",
    "                    end\n",
    "                end\n",
    "            end\n",
    "        end\n",
    "    end\n",
    "end"
   ]
  },
  {
   "cell_type": "code",
   "execution_count": 7,
   "metadata": {},
   "outputs": [
    {
     "data": {
      "text/plain": [
       "mark_line! (generic function with 1 method)"
      ]
     },
     "metadata": {},
     "output_type": "display_data"
    }
   ],
   "source": [
    "function mark_line!(r, side1, side2)\n",
    "    side1_cnt = 0\n",
    "    side2_cnt = 0\n",
    "    arr = []\n",
    "    putmarker!(r)\n",
    "    flag = 0\n",
    "    while !(isborder(r, side1) && isborder(r, side2))\n",
    "        moved_1 = try_move!(r, side1)\n",
    "        moved_2 = try_move!(r, side2)\n",
    "        if !(moved_1 || moved_2)\n",
    "            break\n",
    "        end\n",
    "        if moved_1 && moved_2\n",
    "            putmarker!(r)\n",
    "            append!(arr, 1)\n",
    "            append!(arr, 1)\n",
    "            append!(arr, 0)\n",
    "            append!(arr, 0)\n",
    "        else\n",
    "            if moved_1\n",
    "                side1_cnt += 1\n",
    "                while isborder(r, side2) && !isborder(r, side1)\n",
    "                    if try_move!(r, side1)\n",
    "                        side1_cnt += 1\n",
    "                    end\n",
    "                end\n",
    "                if !(isborder(r, side1) && isborder(r, side2))\n",
    "                    move!(r, side2)\n",
    "                    if isborder(r, inverse(side1))\n",
    "                        move!(r, side2, side1_cnt-1)\n",
    "                        putmarker!(r)\n",
    "                        append!(arr, side1_cnt)\n",
    "                        append!(arr, side1_cnt)\n",
    "                        append!(arr, 0)\n",
    "                        append!(arr, 0)\n",
    "                    else\n",
    "                        move!(r, inverse(side1), side1_cnt-1)\n",
    "                        putmarker!(r)\n",
    "                        append!(arr, side1_cnt)\n",
    "                        append!(arr, 1)\n",
    "                        append!(arr, side1_cnt-1)\n",
    "                        append!(arr, 0)\n",
    "                    end\n",
    "                else\n",
    "                    append!(arr, side1_cnt)\n",
    "                    append!(arr, 0)\n",
    "                    append!(arr, 0)\n",
    "                    append!(arr, 0)\n",
    "                end\n",
    "                side1_cnt = 0\n",
    "            end\n",
    "            if moved_2\n",
    "                side2_cnt += 1\n",
    "                while isborder(r, side1) && !isborder(r, side2)\n",
    "                    if try_move!(r, side2)\n",
    "                        side2_cnt += 1\n",
    "                    end\n",
    "                end\n",
    "                if !(isborder(r, side1) && isborder(r, side2))\n",
    "                    move!(r, side1)\n",
    "                    if isborder(r, inverse(side2))\n",
    "                        move!(r, side1, side2_cnt)\n",
    "                        putmarker!(r)\n",
    "                        append!(arr, 0)\n",
    "                        append!(arr, side2_cnt)\n",
    "                        append!(arr, 0)\n",
    "                        append!(arr, 0)\n",
    "                        \n",
    "                        append!(arr, side2_cnt)\n",
    "                        append!(arr, 0)\n",
    "                        append!(arr, 0)\n",
    "                        append!(arr, 0)\n",
    "                    else\n",
    "                        move!(r, inverse(side2), side2_cnt-1)\n",
    "                        putmarker!(r)\n",
    "                        append!(arr, 0)\n",
    "                        append!(arr, side2_cnt)\n",
    "                        append!(arr, 0)\n",
    "                        append!(arr, 0)\n",
    "\n",
    "                        append!(arr, 1)\n",
    "                        append!(arr, 0)\n",
    "                        append!(arr, 0)\n",
    "                        append!(arr, side2_cnt-1)\n",
    "                    end\n",
    "                else\n",
    "                    append!(arr, 0)\n",
    "                    append!(arr, side2_cnt)\n",
    "                    append!(arr, 0)\n",
    "                    append!(arr, 0)\n",
    "                end\n",
    "                side2_cnt = 0\n",
    "            end\n",
    "        end\n",
    "    end\n",
    "    to_start!(r, side1, side2, arr)\n",
    "end"
   ]
  },
  {
   "cell_type": "code",
   "execution_count": 8,
   "metadata": {},
   "outputs": [
    {
     "data": {
      "text/plain": [
       "main! (generic function with 1 method)"
      ]
     },
     "metadata": {},
     "output_type": "display_data"
    }
   ],
   "source": [
    "function main!(r)\n",
    "    mark_line!(r, Ost, Nord)\n",
    "    mark_line!(r, Ost, Sud)\n",
    "    mark_line!(r, West, Nord)\n",
    "    mark_line!(r, West, Sud)\n",
    "end"
   ]
  },
  {
   "cell_type": "code",
   "execution_count": 9,
   "metadata": {},
   "outputs": [],
   "source": [
    "main!(a)"
   ]
  }
 ],
 "metadata": {
  "kernelspec": {
   "display_name": "Julia 1.9.4",
   "language": "julia",
   "name": "julia-1.9"
  },
  "language_info": {
   "file_extension": ".jl",
   "mimetype": "application/julia",
   "name": "julia",
   "version": "1.9.4"
  },
  "orig_nbformat": 4
 },
 "nbformat": 4,
 "nbformat_minor": 2
}
