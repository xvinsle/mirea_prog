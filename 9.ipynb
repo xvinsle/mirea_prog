{
 "cells": [
  {
   "cell_type": "code",
   "execution_count": 171,
   "metadata": {},
   "outputs": [],
   "source": [
    "using HorizonSideRobots"
   ]
  },
  {
   "cell_type": "code",
   "execution_count": 172,
   "metadata": {},
   "outputs": [],
   "source": [
    "a = Robot(\"untitled.sit\", animate=true);"
   ]
  },
  {
   "cell_type": "code",
   "execution_count": 173,
   "metadata": {},
   "outputs": [],
   "source": [
    "function HorizonSideRobots.move!(r, side, n)\n",
    "    for _ in range(1, n)\n",
    "        move!(r, side)\n",
    "    end\n",
    "end"
   ]
  },
  {
   "cell_type": "code",
   "execution_count": 174,
   "metadata": {},
   "outputs": [
    {
     "data": {
      "text/plain": [
       "move_check! (generic function with 1 method)"
      ]
     },
     "metadata": {},
     "output_type": "display_data"
    }
   ],
   "source": [
    "function move_check!(r, side, n)!\n",
    "    for _ in range(1, n)\n",
    "        if isborder(r, side)\n",
    "            return true\n",
    "        end\n",
    "        move!(r, side)\n",
    "    end\n",
    "    return false\n",
    "end"
   ]
  },
  {
   "cell_type": "code",
   "execution_count": 175,
   "metadata": {},
   "outputs": [
    {
     "data": {
      "text/plain": [
       "mark_first_line! (generic function with 1 method)"
      ]
     },
     "metadata": {},
     "output_type": "display_data"
    }
   ],
   "source": [
    "function mark_first_line!(r)\n",
    "    west_marked = false\n",
    "    putmarker!(r)\n",
    "    count_west = 0\n",
    "    while !isborder(r, West)\n",
    "        flag = move_check!(r, West, 2)\n",
    "        if !flag\n",
    "            putmarker!(r)\n",
    "            count_west += 2\n",
    "        else\n",
    "            count_west += 1\n",
    "        end\n",
    "    end\n",
    "    if ismarker(r)\n",
    "        west_marked = true\n",
    "    end\n",
    "    move!(r, Ost, count_west)\n",
    "    count_ost = 0\n",
    "    while !isborder(r, Ost)\n",
    "        flag = move_check!(r, Ost, 2)\n",
    "        if !flag\n",
    "            putmarker!(r)\n",
    "            count_ost += 2\n",
    "        else\n",
    "            count_ost += 1\n",
    "        end\n",
    "    end\n",
    "    return west_marked, count_ost\n",
    "end"
   ]
  },
  {
   "cell_type": "code",
   "execution_count": 176,
   "metadata": {},
   "outputs": [
    {
     "data": {
      "text/plain": [
       "inverse (generic function with 1 method)"
      ]
     },
     "metadata": {},
     "output_type": "display_data"
    }
   ],
   "source": [
    "function inverse(side)\n",
    "    if side == Nord\n",
    "        return Sud\n",
    "    end\n",
    "    if side == Sud\n",
    "        return Nord\n",
    "    end\n",
    "    if side == Ost\n",
    "        return West\n",
    "    end\n",
    "    if side == West\n",
    "        return Ost\n",
    "    end\n",
    "end"
   ]
  },
  {
   "cell_type": "code",
   "execution_count": 177,
   "metadata": {},
   "outputs": [
    {
     "data": {
      "text/plain": [
       "mark_to_side! (generic function with 1 method)"
      ]
     },
     "metadata": {},
     "output_type": "display_data"
    }
   ],
   "source": [
    "function mark_to_side!(r, wm, side2)\n",
    "    west_marked = wm\n",
    "    side = West\n",
    "    steps_sud = 0\n",
    "    while !isborder(r, side2)\n",
    "        steps_sud += 1\n",
    "        move!(r, side2)\n",
    "        if west_marked\n",
    "            putmarker!(r)\n",
    "        else\n",
    "            move!(r, side)\n",
    "            putmarker!(r)\n",
    "        end\n",
    "        while !isborder(r, side)\n",
    "            flag = move_check!(r, side, 2)\n",
    "            if !flag\n",
    "                putmarker!(r)\n",
    "            end\n",
    "        end\n",
    "        side = inverse(side)\n",
    "    end\n",
    "    return steps_sud\n",
    "end"
   ]
  },
  {
   "cell_type": "code",
   "execution_count": 178,
   "metadata": {},
   "outputs": [
    {
     "data": {
      "text/plain": [
       "mark_chess! (generic function with 1 method)"
      ]
     },
     "metadata": {},
     "output_type": "display_data"
    }
   ],
   "source": [
    "function mark_chess!(r)\n",
    "    west_marked, count_ost = mark_first_line!(r)\n",
    "    steps_sud = mark_to_side!(r, west_marked, Sud)\n",
    "    move!(r, Nord, steps_sud)\n",
    "    steps_nord = mark_to_side!(r, west_marked, Nord)\n",
    "    move!(r, Sud, steps_nord)\n",
    "    move!(r, West, count_ost)\n",
    "end"
   ]
  },
  {
   "cell_type": "code",
   "execution_count": 179,
   "metadata": {},
   "outputs": [],
   "source": [
    "mark_chess!(a)"
   ]
  }
 ],
 "metadata": {
  "kernelspec": {
   "display_name": "Julia 1.9.3",
   "language": "julia",
   "name": "julia-1.9"
  },
  "language_info": {
   "file_extension": ".jl",
   "mimetype": "application/julia",
   "name": "julia",
   "version": "1.9.3"
  },
  "orig_nbformat": 4
 },
 "nbformat": 4,
 "nbformat_minor": 2
}
