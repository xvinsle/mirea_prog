{
 "cells": [
  {
   "cell_type": "code",
   "execution_count": 1,
   "metadata": {},
   "outputs": [],
   "source": [
    "using HorizonSideRobots"
   ]
  },
  {
   "cell_type": "code",
   "execution_count": 2,
   "metadata": {},
   "outputs": [
    {
     "data": {
      "text/plain": [
       "Robot(HorizonSideRobots.SituationDatas.SituationData((0x000000000000000b, 0x000000000000000c), 1.0, true, (11, 12), [290 36 … 380 440; 211 189 … -141 -209; … ; -101 -51 … 81 208; -13 379 … -70 -109], Set([(-467, 7), (-60, 7), (-431, 7), (-504, 7), (-109, 7), (-55, 7), (-143, 7), (-89, 7), (-304, 7), (-419, 7)  …  (-334, 7), (-398, 7), (-438, 7), (-271, 7), (-356, 7), (-461, 7), (-215, 7), (-111, 7), (-312, 7), (-454, 7)]), Set{HorizonSide}[Set() Set() … Set() Set(); Set() Set() … Set() Set(); … ; Set() Set() … Set() Set(); Set() Set() … Set() Set()], (Scene (780px, 715px):\n",
       "  0 Plots\n",
       "  1 Child Scene:\n",
       "    └ Scene (780px, 715px), Axis (24 plots))), true)"
      ]
     },
     "metadata": {},
     "output_type": "display_data"
    }
   ],
   "source": [
    "robot = Robot(\"untitled.sit\", animate=true)"
   ]
  },
  {
   "cell_type": "code",
   "execution_count": 3,
   "metadata": {},
   "outputs": [],
   "source": [
    "function move_diagonal_mark!(robot, sideX, sideY)\n",
    "    num_stepsY = 0\n",
    "    num_stepsX = 0\n",
    "    while true\n",
    "        if !isborder(robot, sideY)\n",
    "            move!(robot, sideY)\n",
    "            num_stepsY += 1 #x = x + 1 Он запоминает шаг\n",
    "        else\n",
    "            break\n",
    "        end\n",
    "\n",
    "        if !isborder(robot, sideX)\n",
    "            move!(robot, sideX)\n",
    "            num_stepsX += 1\n",
    "            putmarker!(robot)\n",
    "        else\n",
    "            break    \n",
    "        end\n",
    "    end\n",
    "    return num_stepsX, num_stepsY\n",
    "end\n",
    "\n",
    "function inverse(side)\n",
    "    if side == Nord\n",
    "        return Sud\n",
    "    elseif side == West\n",
    "        return Ost\n",
    "    elseif side == Sud\n",
    "        return Nord\n",
    "    elseif side == Ost\n",
    "        return West\n",
    "    end\n",
    "end\n",
    "\n",
    "function return_to_start!(robot, num_stepsX, num_stepsY, sideX, sideY)\n",
    "    for a in 1:num_stepsY \n",
    "        move!(robot, inverse(sideY))\n",
    "    end\n",
    "    for a in 1:num_stepsX \n",
    "        move!(robot, inverse(sideX))\n",
    "    end    \n",
    "end        \n",
    "\n",
    "function diagonal_cross!(robot)\n",
    "    for sideY in (Nord, Sud)\n",
    "        for sideX in (West, Ost)\n",
    "\n",
    "        steps = move_diagonal_mark!(robot, sideX, sideY)\n",
    "        return_to_start!(robot, steps[1], steps[2], sideX, sideY)\n",
    "        end\n",
    "    end\n",
    "    putmarker!(robot)\n",
    "end\n",
    "diagonal_cross!(robot)    \n"
   ]
  }
 ],
 "metadata": {
  "kernelspec": {
   "display_name": "Julia 1.9.3",
   "language": "julia",
   "name": "julia-1.9"
  },
  "language_info": {
   "file_extension": ".jl",
   "mimetype": "application/julia",
   "name": "julia",
   "version": "1.9.3"
  }
 },
 "nbformat": 4,
 "nbformat_minor": 2
}
