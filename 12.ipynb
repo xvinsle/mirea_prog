{
 "cells": [
  {
   "cell_type": "code",
   "execution_count": 11,
   "metadata": {},
   "outputs": [],
   "source": [
    "using HorizonSideRobots"
   ]
  },
  {
   "cell_type": "code",
   "execution_count": 12,
   "metadata": {},
   "outputs": [
    {
     "name": "stderr",
     "output_type": "stream",
     "text": [
      "┌ Warning: Found `resolution` in the theme when creating a `Scene`. The `resolution` keyword for `Scene`s and `Figure`s has been deprecated. Use `Figure(; size = ...` or `Scene(; size = ...)` instead, which better reflects that this is a unitless size and not a pixel resolution. The key could also come from `set_theme!` calls or related theming functions.\n",
      "└ @ Makie C:\\Users\\Alex\\.julia\\packages\\Makie\\Qvk4f\\src\\scenes.jl:220\n"
     ]
    }
   ],
   "source": [
    "a = Robot(\"untitled.sit\", animate=true);"
   ]
  },
  {
   "cell_type": "code",
   "execution_count": 3,
   "metadata": {},
   "outputs": [
    {
     "data": {
      "text/plain": [
       "to_start! (generic function with 1 method)"
      ]
     },
     "metadata": {},
     "output_type": "display_data"
    }
   ],
   "source": [
    "function to_start!(r)\n",
    "    arr = []\n",
    "    cnt_w = 0\n",
    "    cnt_s = 0\n",
    "    while !(isborder(r, Sud) && isborder(r, West))\n",
    "        while !isborder(r, Sud)\n",
    "            move!(r, Sud)\n",
    "            cnt_s += 1\n",
    "        end\n",
    "        append!(arr, cnt_s)\n",
    "        cnt_s = 0\n",
    "        while !isborder(r, West)\n",
    "            move!(r, West)\n",
    "            cnt_w += 1\n",
    "        end\n",
    "        append!(arr, cnt_w)\n",
    "        cnt_w = 0\n",
    "    end\n",
    "    return arr\n",
    "end"
   ]
  },
  {
   "cell_type": "code",
   "execution_count": 13,
   "metadata": {},
   "outputs": [
    {
     "data": {
      "text/plain": [
       "inverse (generic function with 1 method)"
      ]
     },
     "metadata": {},
     "output_type": "display_data"
    }
   ],
   "source": [
    "function inverse(side)\n",
    "    if side == Ost\n",
    "        return West\n",
    "    end\n",
    "    if side == West\n",
    "        return Ost\n",
    "    end\n",
    "    if side == Sud\n",
    "        return Nord\n",
    "    end\n",
    "    if side == Nord\n",
    "        return Sud\n",
    "    end\n",
    "end"
   ]
  },
  {
   "cell_type": "code",
   "execution_count": 14,
   "metadata": {},
   "outputs": [],
   "source": [
    "function HorizonSideRobots.move!(r, side, n)\n",
    "    for _ in range(1, n)\n",
    "        try_move!(r, side)\n",
    "    end\n",
    "end"
   ]
  },
  {
   "cell_type": "code",
   "execution_count": 15,
   "metadata": {},
   "outputs": [
    {
     "data": {
      "text/plain": [
       "try_move! (generic function with 1 method)"
      ]
     },
     "metadata": {},
     "output_type": "display_data"
    }
   ],
   "source": [
    "function try_move!(r, side)\n",
    "    if !isborder(r, side)\n",
    "        move!(r, side)\n",
    "    end\n",
    "end"
   ]
  },
  {
   "cell_type": "code",
   "execution_count": 16,
   "metadata": {},
   "outputs": [
    {
     "data": {
      "text/plain": [
       "count_borders_at_line (generic function with 1 method)"
      ]
     },
     "metadata": {},
     "output_type": "display_data"
    }
   ],
   "source": [
    "function count_borders_at_line(r, side)\n",
    "    count = 0\n",
    "    flag = false\n",
    "    count_at_one = 0\n",
    "    while !isborder(r, side)\n",
    "        if isborder(r, Nord)\n",
    "            if flag == false\n",
    "                count += 1\n",
    "                count_at_one = 0\n",
    "            end\n",
    "            while isborder(r, Nord)\n",
    "                move!(r, side)\n",
    "            end\n",
    "            flag = true\n",
    "        end\n",
    "        if count_at_one >= 1\n",
    "            flag = false\n",
    "        end\n",
    "        try_move!(r, side)\n",
    "        count_at_one += 1\n",
    "    end\n",
    "    return count\n",
    "end"
   ]
  },
  {
   "cell_type": "code",
   "execution_count": 17,
   "metadata": {},
   "outputs": [
    {
     "data": {
      "text/plain": [
       "main! (generic function with 1 method)"
      ]
     },
     "metadata": {},
     "output_type": "display_data"
    }
   ],
   "source": [
    "function main!(r)\n",
    "    side = Ost\n",
    "    count = 0\n",
    "    arr = to_start!(r)\n",
    "    while !(isborder(r, Nord) && (isborder(r, West) || isborder(r, Ost)))\n",
    "        count += count_borders_at_line(r, side)\n",
    "        move!(r, Nord)\n",
    "        side = inverse(side)\n",
    "    end\n",
    "    to_start!(r)\n",
    "    side2 = Ost\n",
    "    for i in range(-length(arr), -1)\n",
    "        move!(r, side2, arr[abs(i)])\n",
    "        if side2 == Ost\n",
    "            side2 = Nord\n",
    "        else\n",
    "            side2 = Ost\n",
    "        end\n",
    "    end\n",
    "    return count\n",
    "end"
   ]
  },
  {
   "cell_type": "code",
   "execution_count": 18,
   "metadata": {},
   "outputs": [
    {
     "data": {
      "text/plain": [
       "0"
      ]
     },
     "metadata": {},
     "output_type": "display_data"
    }
   ],
   "source": [
    "main!(a)"
   ]
  }
 ],
 "metadata": {
  "kernelspec": {
   "display_name": "Julia 1.9.4",
   "language": "julia",
   "name": "julia-1.9"
  },
  "language_info": {
   "file_extension": ".jl",
   "mimetype": "application/julia",
   "name": "julia",
   "version": "1.9.4"
  }
 },
 "nbformat": 4,
 "nbformat_minor": 2
}
