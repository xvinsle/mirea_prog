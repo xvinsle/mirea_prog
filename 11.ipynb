{
 "cells": [
  {
   "cell_type": "code",
   "execution_count": 185,
   "metadata": {},
   "outputs": [],
   "source": [
    "using HorizonSideRobots"
   ]
  },
  {
   "cell_type": "code",
   "execution_count": 186,
   "metadata": {},
   "outputs": [],
   "source": [
    "a = Robot(\"untitled.sit\", animate=true);"
   ]
  },
  {
   "cell_type": "code",
   "execution_count": 187,
   "metadata": {},
   "outputs": [
    {
     "data": {
      "text/plain": [
       "to_start! (generic function with 1 method)"
      ]
     },
     "metadata": {},
     "output_type": "display_data"
    }
   ],
   "source": [
    "function to_start!(r)\n",
    "    arr = []\n",
    "    cnt_w = 0\n",
    "    cnt_s = 0\n",
    "    while !(isborder(r, Sud) && isborder(r, West))\n",
    "        while !isborder(r, Sud)\n",
    "            move!(r, Sud)\n",
    "            cnt_s += 1\n",
    "        end\n",
    "        append!(arr, cnt_s)\n",
    "        cnt_s = 0\n",
    "        while !isborder(r, West)\n",
    "            move!(r, West)\n",
    "            cnt_w += 1\n",
    "        end\n",
    "        append!(arr, cnt_w)\n",
    "        cnt_w = 0\n",
    "    end\n",
    "    return arr\n",
    "end"
   ]
  },
  {
   "cell_type": "code",
   "execution_count": 188,
   "metadata": {},
   "outputs": [
    {
     "data": {
      "text/plain": [
       "inverse (generic function with 1 method)"
      ]
     },
     "metadata": {},
     "output_type": "display_data"
    }
   ],
   "source": [
    "function inverse(side)\n",
    "    if side == Ost\n",
    "        return West\n",
    "    end\n",
    "    if side == West\n",
    "        return Ost\n",
    "    end\n",
    "    if side == Sud\n",
    "        return Nord\n",
    "    end\n",
    "    if side == Nord\n",
    "        return Sud\n",
    "    end\n",
    "end"
   ]
  },
  {
   "cell_type": "code",
   "execution_count": 189,
   "metadata": {},
   "outputs": [],
   "source": [
    "function HorizonSideRobots.move!(r, side, n)\n",
    "    for _ in range(1, n)\n",
    "        move!(r, side)\n",
    "    end\n",
    "end"
   ]
  },
  {
   "cell_type": "code",
   "execution_count": 190,
   "metadata": {},
   "outputs": [
    {
     "data": {
      "text/plain": [
       "count_borders_at_line (generic function with 1 method)"
      ]
     },
     "metadata": {},
     "output_type": "display_data"
    }
   ],
   "source": [
    "function count_borders_at_line(r, side)\n",
    "    count = 0\n",
    "    while !isborder(r, side)\n",
    "        if isborder(r, Nord)\n",
    "            while isborder(r, Nord)\n",
    "                move!(r, side)\n",
    "            end\n",
    "            count += 1\n",
    "        end\n",
    "        move!(r, side)\n",
    "    end\n",
    "    return count\n",
    "end"
   ]
  },
  {
   "cell_type": "code",
   "execution_count": 191,
   "metadata": {},
   "outputs": [
    {
     "data": {
      "text/plain": [
       "main! (generic function with 1 method)"
      ]
     },
     "metadata": {},
     "output_type": "display_data"
    }
   ],
   "source": [
    "function main!(r)\n",
    "    side = Ost\n",
    "    count = 0\n",
    "    arr = to_start!(r)\n",
    "    while !(isborder(r, Nord) && (isborder(r, West) || isborder(r, Ost)))\n",
    "        count += count_borders_at_line(r, side)\n",
    "        move!(r, Nord)\n",
    "        side = inverse(side)\n",
    "    end\n",
    "    to_start!(r)\n",
    "    side2 = Ost\n",
    "    for i in range(-length(arr), -1)\n",
    "        move!(r, side2, arr[abs(i)])\n",
    "        if side2 == Ost\n",
    "            side2 = Nord\n",
    "        else\n",
    "            side2 = Ost\n",
    "        end\n",
    "    end\n",
    "    return count\n",
    "end"
   ]
  },
  {
   "cell_type": "code",
   "execution_count": 192,
   "metadata": {},
   "outputs": [
    {
     "name": "stdout",
     "output_type": "stream",
     "text": [
      "Any[1, 4, 2, 0]"
     ]
    },
    {
     "data": {
      "text/plain": [
       "13"
      ]
     },
     "metadata": {},
     "output_type": "display_data"
    }
   ],
   "source": [
    "main!(a)"
   ]
  }
 ],
 "metadata": {
  "kernelspec": {
   "display_name": "Julia 1.9.3",
   "language": "julia",
   "name": "julia-1.9"
  },
  "language_info": {
   "file_extension": ".jl",
   "mimetype": "application/julia",
   "name": "julia",
   "version": "1.9.3"
  },
  "orig_nbformat": 4
 },
 "nbformat": 4,
 "nbformat_minor": 2
}
