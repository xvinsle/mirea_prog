{
 "cells": [
  {
   "cell_type": "code",
   "execution_count": 3,
   "metadata": {},
   "outputs": [],
   "source": [
    "using HorizonSideRobots"
   ]
  },
  {
   "cell_type": "code",
   "execution_count": 4,
   "metadata": {},
   "outputs": [
    {
     "data": {
      "text/plain": [
       "Robot(HorizonSideRobots.SituationDatas.SituationData((0x000000000000000b, 0x000000000000000c), 1.0, true, (1, 1), [290 36 … 380 440; 211 189 … -141 -209; … ; -101 -51 … 81 208; -13 379 … -70 -109], Set([(-467, 7), (-60, 7), (-431, 7), (-504, 7), (-109, 7), (-55, 7), (-143, 7), (-89, 7), (-304, 7), (-419, 7)  …  (-334, 7), (-398, 7), (-438, 7), (-271, 7), (-356, 7), (-461, 7), (-215, 7), (-111, 7), (-312, 7), (-454, 7)]), Set{HorizonSide}[Set() Set() … Set() Set(); Set() Set() … Set() Set(); … ; Set() Set() … Set() Set(); Set() Set() … Set() Set()], (Scene (780px, 715px):\n",
       "  0 Plots\n",
       "  1 Child Scene:\n",
       "    └ Scene (780px, 715px), Axis (6 plots))), true)"
      ]
     },
     "metadata": {},
     "output_type": "display_data"
    }
   ],
   "source": [
    "robot = Robot(\"untitled.sit\", animate=true)\n"
   ]
  },
  {
   "cell_type": "code",
   "execution_count": 5,
   "metadata": {},
   "outputs": [],
   "source": [
    "function gotostart!(robot)\n",
    "    x = 0\n",
    "    y = 0\n",
    "    while !isborder(robot, West)\n",
    "        move!(robot, West)\n",
    "        x = x + 1\n",
    "    end\n",
    "    while !isborder(robot, Sud)\n",
    "        move!(robot, Sud)\n",
    "        y = y + 1\n",
    "    end\n",
    "    return x, y\n",
    "end\n",
    "\n",
    "function inverse(side)\n",
    "    if side == Nord\n",
    "        return Sud\n",
    "    elseif side == West\n",
    "        return Ost\n",
    "    elseif side == Sud\n",
    "        return Nord\n",
    "    elseif side == Ost\n",
    "        return West\n",
    "    end\n",
    "end\n",
    "\n",
    "function return_to_start!(robot, x, y)\n",
    "    for i = 1:x\n",
    "        move!(robot, Ost)\n",
    "    end\n",
    "    for i = 1:y\n",
    "        move!(robot, Nord)\n",
    "    end\n",
    "end\n",
    "\n",
    "\n",
    "function border!(robot)\n",
    "    x, y = gotostart!(robot)\n",
    "    while !isborder(robot, Nord)\n",
    "        move!(robot, Nord)\n",
    "        putmarker!(robot)\n",
    "    end\n",
    "    while !isborder(robot, Ost)\n",
    "        move!(robot, Ost)\n",
    "        putmarker!(robot)\n",
    "    end\n",
    "    while !isborder(robot, Sud)\n",
    "        move!(robot, Sud)\n",
    "        putmarker!(robot)\n",
    "    end\n",
    "    while !isborder(robot, West)\n",
    "        move!(robot, West)\n",
    "        putmarker!(robot)\n",
    "    end\n",
    "    return_to_start!(robot, x, y)\n",
    "end\n",
    "\n",
    "border!(robot)\n"
   ]
  }
 ],
 "metadata": {
  "kernelspec": {
   "display_name": "Julia 1.9.3",
   "language": "julia",
   "name": "julia-1.9"
  },
  "language_info": {
   "file_extension": ".jl",
   "mimetype": "application/julia",
   "name": "julia",
   "version": "1.9.3"
  }
 },
 "nbformat": 4,
 "nbformat_minor": 2
}
